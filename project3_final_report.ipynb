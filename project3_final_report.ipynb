{
 "cells": [
  {
   "cell_type": "markdown",
   "metadata": {},
   "source": [
    "#  Understand User Behavior\n",
    "## Project 3 - Final Report\n",
    "### 07/30/2020 - Shyamkarthik Rameshbabu"
   ]
  },
  {
   "cell_type": "markdown",
   "metadata": {},
   "source": [
    "## Introduction\n",
    "\n",
    "- You're a data scientist at a game development company  \n",
    "\n",
    "- Your latest mobile game has two events you're interested in tracking: `purchase_a_sword` and `join_a_guild`\n",
    "\n",
    "- Each has metadata characterstic of such events (i.e., sword type, guild name,\n",
    "  etc)\n",
    "  \n",
    "  \n",
    "Our goal here will be to simulate user interactions with our \"mobile game\" while tracking and processing events through the entire pipeline end to end. We will take advantage of a variety of tools to achieve each step of this pipeline which will be detailed below."
   ]
  },
  {
   "cell_type": "markdown",
   "metadata": {},
   "source": [
    "## Commands Walkthrough"
   ]
  },
  {
   "cell_type": "markdown",
   "metadata": {},
   "source": [
    "### Spin up the pipeline.\n",
    "\n",
    "First we will run our favorite commmand to get all our containers up and running. Please refer to the ```docker-compose.yml``` file for descriptions of each container.\n",
    "\n",
    "```bat\n",
    "\n",
    "docker-compose up -d\n",
    "\n",
    "```"
   ]
  },
  {
   "cell_type": "markdown",
   "metadata": {},
   "source": [
    "### Kafka Consumer.\n",
    "\n",
    "Here we tell Kafka to consume messages from the ```game_events``` topic from the beginning onward. Running this command twice will create the topic if it doesn't already exist. We run Kafkacat without the ```-e``` option so it will run continuously.\n",
    "\n",
    "```bat\n",
    "\n",
    "docker-compose exec mids kafkacat -C -b kafka:29092 -t game_events -o beginning\n",
    "\n",
    "```"
   ]
  },
  {
   "cell_type": "markdown",
   "metadata": {},
   "source": [
    "### Run Flask Server.\n",
    "\n",
    "Here we start our Flask server via the ```mids``` container. We specify the global environment variable so that Flask knows where to run from and we open up localhost as specified in the YML file on port 5000. This will listen for any and all requests on port 5000 to the Flask app.\n",
    "\n",
    "```bat\n",
    "\n",
    "docker-compose exec mids env FLASK_APP=/w205/project-3-karthikrbabu/game_api.py flask run --host 0.0.0.0\n",
    "\n",
    "```"
   ]
  },
  {
   "cell_type": "markdown",
   "metadata": {},
   "source": [
    "### Test the Flask Server\n",
    "\n",
    "\n",
    "Here we run a variety of commands that make requests to our Flask server in various ways.\n",
    "\n",
    "\n",
    "Individual **cURL request.** cURL is for transferring data using various network protocols. The name stands for \"Client URL\", and here we use HTTP to fire a request to our localhost.\n",
    "```bat \n",
    "docker-compose exec mids curl 'http://localhost:5000/join_a_guild?region=cali'\n",
    "\n",
    "docker-compose exec mids curl 'http://localhost:5000/purchase_sword?metal=copper&power_level=100&magical=True'\n",
    "```\n",
    "\n",
    "______________________________________________________________________\n",
    "\n",
    "This results in **404** because this API route is not supported\n",
    "```bat \n",
    "docker-compose exec mids curl 'http://localhost:5000/purchase_a_dummy_sword'\n",
    "```\n",
    "\n",
    "\n",
    "______________________________________________________________________\n",
    "\n",
    "Here we use **Apache Bench** to fire batch requests with the specified options\n",
    "* -n : is the number of requests\n",
    "* -H : adds an Auth header (could be Basic or Token)\n",
    "```bat \n",
    "docker-compose exec mids ab -n 10 -H \"Host: user1.comcast.com\" 'http://localhost:5000/purchase_sword'\n",
    "```"
   ]
  },
  {
   "cell_type": "markdown",
   "metadata": {},
   "source": [
    "### Test the Flask Server (part 2)\n",
    "\n",
    "Here we use a BASH script that consolidates the various commands listed previously to submit multiple requests to our Flask server in a pseudo-automated fashion. I have created the below listed files, please look into them for detailed descriptions.\n",
    "\n",
    "* ```basic_ab.sh```\n",
    "* ```complex_ab_limit.sh```\n",
    "* ```complex_ab_infinite.sh```    <em>(this will be used later on)</em>\n",
    "\n",
    "Will run the basic script to generate events into Kafka. It is essentially a sequence of Apache Bench commands.\n",
    "```bat \n",
    "sh scripts/basic_ab.sh\n",
    "```\n",
    "\n",
    "______________________________________________________________________\n",
    "\n",
    "Will run the limited complex script to generate events into Kafka. The script has some variety based on a counter and if you are on an even or odd iteration of the loop. The loop will run the number of times we specify as a command line argument, in this case 10.\n",
    "```bat \n",
    "sh scripts/complex_ab_limit.sh 10 \n",
    "```\n"
   ]
  },
  {
   "cell_type": "markdown",
   "metadata": {},
   "source": [
    "### Start Spark stream processing.\n",
    "\n",
    "Using spark submit we kick off a spark streaming job. This listen for, decorates, and processes events that get landed into Kafka in a micro-batch of 15 seconds (aka our threshold that we call streaming!) From here we store events into HDFS as parquet files.\n",
    "\n",
    "You will find more details in the file ```write_events_stream.py```\n",
    "\n",
    "\n",
    "```bat\n",
    "\n",
    "docker-compose exec spark spark-submit /w205/project-3-karthikrbabu/write_events_stream.py\n",
    "\n",
    "```"
   ]
  },
  {
   "cell_type": "markdown",
   "metadata": {
    "collapsed": true
   },
   "source": [
    "### Generate real time events.\n",
    "\n",
    "Now that Spark is up and running and listening for events. We can start real time event generation achieved through the ```complex_ab_infinite.sh``` BASH script. Running this script will firing requests to our Flask server, and hence pumping events into Kafka. We can let this run as it is an infinite loop. To end the process hit the following key combo ```CTL + D```.\n",
    "\n",
    "\n",
    "You will find more details in the file ```write_events_stream.py```\n",
    "\n",
    "\n",
    "```bat\n",
    "\n",
    "sh scripts/complex_ab_infinite.sh\n",
    "\n",
    "```"
   ]
  },
  {
   "cell_type": "markdown",
   "metadata": {
    "collapsed": true
   },
   "source": [
    "### Create Hive Metastore - a.k.a. our HDFS phonebook.\n",
    "\n",
    "Create \"phonebook\" for Presto to read from HDFS using Hive as a meta store that points to the right location to query the data from HDFS. Running the below command will use spark SQL to create these external tables that we can use as a pointer and schema definition to then query into HDFS.\n",
    "\n",
    "\n",
    "You will find more details in the file ```write_hive_table.py```\n",
    "\n",
    "\n",
    "```bat\n",
    "\n",
    "docker-compose exec spark spark-submit /w205/project-3-karthikrbabu/write_hive_table.py\n",
    "\n",
    "```"
   ]
  },
  {
   "cell_type": "markdown",
   "metadata": {
    "collapsed": true
   },
   "source": [
    "### Query with Presto.\n",
    "\n",
    "Data is now flowing and being processed by Spark to then be stored in HDFS. Because we have setup the Hive metastore we can use Presto, which is a query engine to reference the tables that we have stored in HDFS. Instead of running it from the commmand line, for convenience I have installed the Presto drivers via PyHive below so that we can query directly from this notebook."
   ]
  },
  {
   "cell_type": "code",
   "execution_count": 2,
   "metadata": {},
   "outputs": [
    {
     "name": "stdout",
     "output_type": "stream",
     "text": [
      "Collecting PyHive\n",
      "  Downloading https://files.pythonhosted.org/packages/a8/ea/30c7edbd18101f65846bb5a3ffb94335350e2faf3d89cb14ab3a720a4a46/PyHive-0.6.2.tar.gz (42kB)\n",
      "\u001b[K    100% |################################| 51kB 1.1MB/s ta 0:00:011\n",
      "\u001b[?25hCollecting future (from PyHive)\n",
      "  Downloading https://files.pythonhosted.org/packages/45/0b/38b06fd9b92dc2b68d58b75f900e97884c45bedd2ff83203d933cf5851c9/future-0.18.2.tar.gz (829kB)\n",
      "\u001b[K    100% |################################| 829kB 500kB/s eta 0:00:01\n",
      "\u001b[?25hRequirement already satisfied: python-dateutil in /opt/anaconda3/lib/python3.6/site-packages (from PyHive)\n",
      "Requirement already satisfied: six>=1.5 in /opt/anaconda3/lib/python3.6/site-packages (from python-dateutil->PyHive)\n",
      "Building wheels for collected packages: PyHive, future\n",
      "  Running setup.py bdist_wheel for PyHive ... \u001b[?25ldone\n",
      "\u001b[?25h  Stored in directory: /root/.cache/pip/wheels/b5/40/44/a8772f31ef706bdd1add700dbe7b1c8bbf1f527f8c1d1912b6\n",
      "  Running setup.py bdist_wheel for future ... \u001b[?25ldone\n",
      "\u001b[?25h  Stored in directory: /root/.cache/pip/wheels/8b/99/a0/81daf51dcd359a9377b110a8a886b3895921802d2fc1b2397e\n",
      "Successfully built PyHive future\n",
      "Installing collected packages: future, PyHive\n",
      "Successfully installed PyHive-0.6.2 future-0.18.2\n",
      "\u001b[33mYou are using pip version 9.0.1, however version 20.2 is available.\n",
      "You should consider upgrading via the 'pip install --upgrade pip' command.\u001b[0m\n"
     ]
    }
   ],
   "source": [
    "#Install PyHive which is a python interface into Hive\n",
    "\n",
    "import sys\n",
    "!{sys.executable} -m pip install PyHive"
   ]
  },
  {
   "cell_type": "code",
   "execution_count": 3,
   "metadata": {},
   "outputs": [],
   "source": [
    "#From pyhive import the presto driver that lets us run presto queries\n",
    "from pyhive import presto\n",
    "import pandas as pd"
   ]
  },
  {
   "cell_type": "code",
   "execution_count": 4,
   "metadata": {
    "collapsed": true
   },
   "outputs": [],
   "source": [
    "# Setup our connection for Presto using Hive as the \"catalog\"\n",
    "# Port 8080 works as indicated in the YML file from earlier\n",
    "cursor = presto.connect(host=\"presto\", port=8080, username='presto', catalog='hive', schema='default').cursor()"
   ]
  },
  {
   "cell_type": "markdown",
   "metadata": {},
   "source": [
    "#### From here on we can run some very simple queries via Presto to verify what is in HDFS, and see what kind of interactions users have had with our \"mobile app\". "
   ]
  },
  {
   "cell_type": "code",
   "execution_count": 5,
   "metadata": {},
   "outputs": [
    {
     "name": "stdout",
     "output_type": "stream",
     "text": [
      "[('guild_joins',), ('sword_purchases',)]\n"
     ]
    }
   ],
   "source": [
    "#Run some commands! \n",
    "cursor.execute('show tables')\n",
    "print(cursor.fetchall())"
   ]
  },
  {
   "cell_type": "markdown",
   "metadata": {},
   "source": [
    "#### Here we run the same commands twice consecutively to see the counts of requests growing in HDFS as the stream continues to populate events."
   ]
  },
  {
   "cell_type": "code",
   "execution_count": 6,
   "metadata": {},
   "outputs": [
    {
     "name": "stdout",
     "output_type": "stream",
     "text": [
      "Requests to join a guild:\n",
      "[(70,)]\n",
      "Requests to purchase a sword:\n",
      "[(70,)]\n"
     ]
    }
   ],
   "source": [
    "cursor.execute('select count(*) from guild_joins')\n",
    "print(\"Requests to join a guild:\")\n",
    "print(cursor.fetchall())\n",
    "\n",
    "\n",
    "cursor.execute('select count(*) from sword_purchases')\n",
    "print(\"Requests to purchase a sword:\")\n",
    "print(cursor.fetchall())"
   ]
  },
  {
   "cell_type": "markdown",
   "metadata": {},
   "source": [
    "#### Moments later...."
   ]
  },
  {
   "cell_type": "code",
   "execution_count": 7,
   "metadata": {},
   "outputs": [
    {
     "name": "stdout",
     "output_type": "stream",
     "text": [
      "Requests to join a guild:\n",
      "[(100,)]\n",
      "Requests to purchase a sword:\n",
      "[(100,)]\n"
     ]
    }
   ],
   "source": [
    "cursor.execute('select count(*) from guild_joins')\n",
    "print(\"Requests to join a guild:\")\n",
    "print(cursor.fetchall())\n",
    "\n",
    "\n",
    "cursor.execute('select count(*) from sword_purchases')\n",
    "print(\"Requests to purchase a sword:\")\n",
    "print(cursor.fetchall())"
   ]
  },
  {
   "cell_type": "markdown",
   "metadata": {},
   "source": [
    "<hr>"
   ]
  },
  {
   "cell_type": "markdown",
   "metadata": {},
   "source": [
    "#### Now we load up the respective tables queried in an instance to pandas dataframes for prettier viewing and some analysis."
   ]
  },
  {
   "cell_type": "code",
   "execution_count": 13,
   "metadata": {},
   "outputs": [
    {
     "name": "stdout",
     "output_type": "stream",
     "text": [
      "(110, 10)\n"
     ]
    },
    {
     "data": {
      "text/html": [
       "<div>\n",
       "<style>\n",
       "    .dataframe thead tr:only-child th {\n",
       "        text-align: right;\n",
       "    }\n",
       "\n",
       "    .dataframe thead th {\n",
       "        text-align: left;\n",
       "    }\n",
       "\n",
       "    .dataframe tbody tr th {\n",
       "        vertical-align: top;\n",
       "    }\n",
       "</style>\n",
       "<table border=\"1\" class=\"dataframe\">\n",
       "  <thead>\n",
       "    <tr style=\"text-align: right;\">\n",
       "      <th></th>\n",
       "      <th>raw_event</th>\n",
       "      <th>timestamp</th>\n",
       "      <th>Accept</th>\n",
       "      <th>Host</th>\n",
       "      <th>User_Agent</th>\n",
       "      <th>event_type</th>\n",
       "      <th>metal</th>\n",
       "      <th>power_level</th>\n",
       "      <th>magical</th>\n",
       "      <th>remote_addr</th>\n",
       "    </tr>\n",
       "  </thead>\n",
       "  <tbody>\n",
       "    <tr>\n",
       "      <th>0</th>\n",
       "      <td>{\"event_type\": \"purchase_sword\", \"remote_addr\"...</td>\n",
       "      <td>2020-08-01 03:56:46.808</td>\n",
       "      <td>*/*</td>\n",
       "      <td>user1.att.com</td>\n",
       "      <td>None</td>\n",
       "      <td>purchase_sword</td>\n",
       "      <td>gold</td>\n",
       "      <td>100</td>\n",
       "      <td>False</td>\n",
       "      <td>127.0.0.1</td>\n",
       "    </tr>\n",
       "    <tr>\n",
       "      <th>1</th>\n",
       "      <td>{\"event_type\": \"purchase_sword\", \"remote_addr\"...</td>\n",
       "      <td>2020-08-01 03:56:46.824</td>\n",
       "      <td>*/*</td>\n",
       "      <td>user1.att.com</td>\n",
       "      <td>None</td>\n",
       "      <td>purchase_sword</td>\n",
       "      <td>gold</td>\n",
       "      <td>100</td>\n",
       "      <td>False</td>\n",
       "      <td>127.0.0.1</td>\n",
       "    </tr>\n",
       "    <tr>\n",
       "      <th>2</th>\n",
       "      <td>{\"event_type\": \"purchase_sword\", \"remote_addr\"...</td>\n",
       "      <td>2020-08-01 03:56:46.835</td>\n",
       "      <td>*/*</td>\n",
       "      <td>user1.att.com</td>\n",
       "      <td>None</td>\n",
       "      <td>purchase_sword</td>\n",
       "      <td>gold</td>\n",
       "      <td>100</td>\n",
       "      <td>False</td>\n",
       "      <td>127.0.0.1</td>\n",
       "    </tr>\n",
       "    <tr>\n",
       "      <th>3</th>\n",
       "      <td>{\"event_type\": \"purchase_sword\", \"remote_addr\"...</td>\n",
       "      <td>2020-08-01 03:56:46.843</td>\n",
       "      <td>*/*</td>\n",
       "      <td>user1.att.com</td>\n",
       "      <td>None</td>\n",
       "      <td>purchase_sword</td>\n",
       "      <td>gold</td>\n",
       "      <td>100</td>\n",
       "      <td>False</td>\n",
       "      <td>127.0.0.1</td>\n",
       "    </tr>\n",
       "    <tr>\n",
       "      <th>4</th>\n",
       "      <td>{\"event_type\": \"purchase_sword\", \"remote_addr\"...</td>\n",
       "      <td>2020-08-01 03:56:46.855</td>\n",
       "      <td>*/*</td>\n",
       "      <td>user1.att.com</td>\n",
       "      <td>None</td>\n",
       "      <td>purchase_sword</td>\n",
       "      <td>gold</td>\n",
       "      <td>100</td>\n",
       "      <td>False</td>\n",
       "      <td>127.0.0.1</td>\n",
       "    </tr>\n",
       "  </tbody>\n",
       "</table>\n",
       "</div>"
      ],
      "text/plain": [
       "                                           raw_event                timestamp  \\\n",
       "0  {\"event_type\": \"purchase_sword\", \"remote_addr\"...  2020-08-01 03:56:46.808   \n",
       "1  {\"event_type\": \"purchase_sword\", \"remote_addr\"...  2020-08-01 03:56:46.824   \n",
       "2  {\"event_type\": \"purchase_sword\", \"remote_addr\"...  2020-08-01 03:56:46.835   \n",
       "3  {\"event_type\": \"purchase_sword\", \"remote_addr\"...  2020-08-01 03:56:46.843   \n",
       "4  {\"event_type\": \"purchase_sword\", \"remote_addr\"...  2020-08-01 03:56:46.855   \n",
       "\n",
       "  Accept           Host User_Agent      event_type metal power_level magical  \\\n",
       "0    */*  user1.att.com       None  purchase_sword  gold         100   False   \n",
       "1    */*  user1.att.com       None  purchase_sword  gold         100   False   \n",
       "2    */*  user1.att.com       None  purchase_sword  gold         100   False   \n",
       "3    */*  user1.att.com       None  purchase_sword  gold         100   False   \n",
       "4    */*  user1.att.com       None  purchase_sword  gold         100   False   \n",
       "\n",
       "  remote_addr  \n",
       "0   127.0.0.1  \n",
       "1   127.0.0.1  \n",
       "2   127.0.0.1  \n",
       "3   127.0.0.1  \n",
       "4   127.0.0.1  "
      ]
     },
     "execution_count": 13,
     "metadata": {},
     "output_type": "execute_result"
    }
   ],
   "source": [
    "\n",
    "cursor.execute('select * from sword_purchases')\n",
    "sword_purchases = pd.DataFrame(cursor.fetchall(), columns=['raw_event','timestamp', 'Accept', 'Host', 'User_Agent', 'event_type',\n",
    "                                             'metal', 'power_level','magical', 'remote_addr'])\n",
    "\n",
    "print(sword_purchases.shape)\n",
    "sword_purchases.head()"
   ]
  },
  {
   "cell_type": "code",
   "execution_count": 9,
   "metadata": {},
   "outputs": [
    {
     "name": "stdout",
     "output_type": "stream",
     "text": [
      "(110, 8)\n"
     ]
    },
    {
     "data": {
      "text/html": [
       "<div>\n",
       "<style>\n",
       "    .dataframe thead tr:only-child th {\n",
       "        text-align: right;\n",
       "    }\n",
       "\n",
       "    .dataframe thead th {\n",
       "        text-align: left;\n",
       "    }\n",
       "\n",
       "    .dataframe tbody tr th {\n",
       "        vertical-align: top;\n",
       "    }\n",
       "</style>\n",
       "<table border=\"1\" class=\"dataframe\">\n",
       "  <thead>\n",
       "    <tr style=\"text-align: right;\">\n",
       "      <th></th>\n",
       "      <th>raw_event</th>\n",
       "      <th>timestamp</th>\n",
       "      <th>Accept</th>\n",
       "      <th>Host</th>\n",
       "      <th>User_Agent</th>\n",
       "      <th>event_type</th>\n",
       "      <th>region</th>\n",
       "      <th>remote_addr</th>\n",
       "    </tr>\n",
       "  </thead>\n",
       "  <tbody>\n",
       "    <tr>\n",
       "      <th>0</th>\n",
       "      <td>{\"Host\": \"user2.comcast.com\", \"event_type\": \"j...</td>\n",
       "      <td>2020-08-01 03:55:22.346</td>\n",
       "      <td>*/*</td>\n",
       "      <td>user2.comcast.com</td>\n",
       "      <td>None</td>\n",
       "      <td>join_a_guild</td>\n",
       "      <td>cali</td>\n",
       "      <td>127.0.0.1</td>\n",
       "    </tr>\n",
       "    <tr>\n",
       "      <th>1</th>\n",
       "      <td>{\"Host\": \"user2.comcast.com\", \"event_type\": \"j...</td>\n",
       "      <td>2020-08-01 03:55:22.352</td>\n",
       "      <td>*/*</td>\n",
       "      <td>user2.comcast.com</td>\n",
       "      <td>None</td>\n",
       "      <td>join_a_guild</td>\n",
       "      <td>cali</td>\n",
       "      <td>127.0.0.1</td>\n",
       "    </tr>\n",
       "    <tr>\n",
       "      <th>2</th>\n",
       "      <td>{\"Host\": \"user2.comcast.com\", \"event_type\": \"j...</td>\n",
       "      <td>2020-08-01 03:55:22.358</td>\n",
       "      <td>*/*</td>\n",
       "      <td>user2.comcast.com</td>\n",
       "      <td>None</td>\n",
       "      <td>join_a_guild</td>\n",
       "      <td>cali</td>\n",
       "      <td>127.0.0.1</td>\n",
       "    </tr>\n",
       "    <tr>\n",
       "      <th>3</th>\n",
       "      <td>{\"Host\": \"user2.comcast.com\", \"event_type\": \"j...</td>\n",
       "      <td>2020-08-01 03:55:22.362</td>\n",
       "      <td>*/*</td>\n",
       "      <td>user2.comcast.com</td>\n",
       "      <td>None</td>\n",
       "      <td>join_a_guild</td>\n",
       "      <td>cali</td>\n",
       "      <td>127.0.0.1</td>\n",
       "    </tr>\n",
       "    <tr>\n",
       "      <th>4</th>\n",
       "      <td>{\"Host\": \"user2.comcast.com\", \"event_type\": \"j...</td>\n",
       "      <td>2020-08-01 03:55:22.375</td>\n",
       "      <td>*/*</td>\n",
       "      <td>user2.comcast.com</td>\n",
       "      <td>None</td>\n",
       "      <td>join_a_guild</td>\n",
       "      <td>cali</td>\n",
       "      <td>127.0.0.1</td>\n",
       "    </tr>\n",
       "  </tbody>\n",
       "</table>\n",
       "</div>"
      ],
      "text/plain": [
       "                                           raw_event                timestamp  \\\n",
       "0  {\"Host\": \"user2.comcast.com\", \"event_type\": \"j...  2020-08-01 03:55:22.346   \n",
       "1  {\"Host\": \"user2.comcast.com\", \"event_type\": \"j...  2020-08-01 03:55:22.352   \n",
       "2  {\"Host\": \"user2.comcast.com\", \"event_type\": \"j...  2020-08-01 03:55:22.358   \n",
       "3  {\"Host\": \"user2.comcast.com\", \"event_type\": \"j...  2020-08-01 03:55:22.362   \n",
       "4  {\"Host\": \"user2.comcast.com\", \"event_type\": \"j...  2020-08-01 03:55:22.375   \n",
       "\n",
       "  Accept               Host User_Agent    event_type region remote_addr  \n",
       "0    */*  user2.comcast.com       None  join_a_guild   cali   127.0.0.1  \n",
       "1    */*  user2.comcast.com       None  join_a_guild   cali   127.0.0.1  \n",
       "2    */*  user2.comcast.com       None  join_a_guild   cali   127.0.0.1  \n",
       "3    */*  user2.comcast.com       None  join_a_guild   cali   127.0.0.1  \n",
       "4    */*  user2.comcast.com       None  join_a_guild   cali   127.0.0.1  "
      ]
     },
     "execution_count": 9,
     "metadata": {},
     "output_type": "execute_result"
    }
   ],
   "source": [
    "cursor.execute('select * from guild_joins')\n",
    "guild_joins = pd.DataFrame(cursor.fetchall(), columns=['raw_event','timestamp', 'Accept', 'Host', 'User_Agent', 'event_type',\n",
    "                                             'region', 'remote_addr'])\n",
    "\n",
    "print(guild_joins.shape)\n",
    "guild_joins.head()"
   ]
  },
  {
   "cell_type": "markdown",
   "metadata": {},
   "source": [
    "### Some Analysis\n",
    "\n",
    "We can see that each table above has 110 rows"
   ]
  },
  {
   "cell_type": "markdown",
   "metadata": {},
   "source": [
    "#### Run a simple group by operation to see what types of swords were bought!"
   ]
  },
  {
   "cell_type": "code",
   "execution_count": 18,
   "metadata": {},
   "outputs": [
    {
     "name": "stdout",
     "output_type": "stream",
     "text": [
      "[('copper', 50), ('gold', 60)]\n"
     ]
    }
   ],
   "source": [
    "cursor.execute('select metal, count(*) from sword_purchases GROUP BY metal')\n",
    "print(cursor.fetchall())"
   ]
  },
  {
   "cell_type": "markdown",
   "metadata": {},
   "source": [
    "#### Run a simple group by operation to see how many people are in each region's guild!"
   ]
  },
  {
   "cell_type": "code",
   "execution_count": 19,
   "metadata": {},
   "outputs": [
    {
     "name": "stdout",
     "output_type": "stream",
     "text": [
      "[('ny', 60), ('cali', 50)]\n"
     ]
    }
   ],
   "source": [
    "cursor.execute('select region, count(*) from guild_joins GROUP BY region')\n",
    "print(cursor.fetchall())"
   ]
  },
  {
   "cell_type": "markdown",
   "metadata": {},
   "source": [
    "### And thats it!\n",
    "\n",
    "Through this we've gone through an end to end pipeline of generating events, landing them, and being able to query them. Let us go out into the world and use the knowledge gained from w205! :)\n",
    "\n",
    "### #docker-compose-down 😅"
   ]
  },
  {
   "cell_type": "code",
   "execution_count": null,
   "metadata": {
    "collapsed": true
   },
   "outputs": [],
   "source": []
  }
 ],
 "metadata": {
  "environment": {
   "name": "tf2-gpu.2-1.m46",
   "type": "gcloud",
   "uri": "gcr.io/deeplearning-platform-release/tf2-gpu.2-1:m46"
  },
  "kernelspec": {
   "display_name": "Python 3",
   "language": "python",
   "name": "python3"
  },
  "language_info": {
   "codemirror_mode": {
    "name": "ipython",
    "version": 3
   },
   "file_extension": ".py",
   "mimetype": "text/x-python",
   "name": "python",
   "nbconvert_exporter": "python",
   "pygments_lexer": "ipython3",
   "version": "3.6.1"
  }
 },
 "nbformat": 4,
 "nbformat_minor": 4
}
